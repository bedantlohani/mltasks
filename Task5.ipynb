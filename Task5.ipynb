{
 "nbformat": 4,
 "nbformat_minor": 0,
 "metadata": {
  "colab": {
   "provenance": []
  },
  "kernelspec": {
   "name": "python3",
   "display_name": "Python 3"
  },
  "language_info": {
   "name": "python"
  }
 },
 "cells": [
  {
   "cell_type": "code",
   "source": [
    "import numpy as np\n",
    "import matplotlib.pyplot as plt\n",
    "import tensorflow as tf\n",
    "from tensorflow.keras import layers, models, datasets\n",
    "\n",
    "# Load MNIST data\n",
    "(train_images, train_labels), (test_images, test_labels) = datasets.mnist.load_data()\n",
    "train_images = train_images.reshape((60000, 28, 28, 1)).astype('float32') / 255\n",
    "test_images = test_images.reshape((10000, 28, 28, 1)).astype('float32') / 255\n",
    "\n",
    "# Create binary labels for odd/even classification\n",
    "train_labels_odd_even = train_labels % 2\n",
    "test_labels_odd_even = test_labels % 2\n"
   ],
   "metadata": {
    "id": "f3MUiGbOM8UG"
   },
   "execution_count": 3,
   "outputs": []
  },
  {
   "cell_type": "code",
   "source": [
    "# CNN Encoder\n",
    "def create_encoder():\n",
    "    inputs = layers.Input(shape=(28, 28, 1))\n",
    "    x = layers.Conv2D(32, (3, 3), activation='relu')(inputs)\n",
    "    x = layers.MaxPooling2D((2, 2))(x)\n",
    "    x = layers.Conv2D(64, (3, 3), activation='relu')(x)\n",
    "    x = layers.MaxPooling2D((2, 2))(x)\n",
    "    x = layers.Conv2D(64, (3, 3), activation='relu')(x)\n",
    "    return models.Model(inputs, x)\n",
    "\n",
    "encoder = create_encoder()\n",
    "\n",
    "# Digit classifier model\n",
    "digit_inputs = layers.Input(shape=(28, 28, 1))\n",
    "x = encoder(digit_inputs)\n",
    "x = layers.Flatten()(x)\n",
    "x = layers.Dense(64, activation='relu')(x)\n",
    "digit_outputs = layers.Dense(10, activation='softmax')(x)\n",
    "digit_model = models.Model(digit_inputs, digit_outputs)\n",
    "\n",
    "# Odd/even classifier model\n",
    "odd_even_inputs = layers.Input(shape=(28, 28, 1))\n",
    "y = encoder(odd_even_inputs)\n",
    "y = layers.Flatten()(y)\n",
    "y = layers.Dense(64, activation='relu')(y)\n",
    "odd_even_outputs = layers.Dense(2, activation='softmax')(y)\n",
    "odd_even_model = models.Model(odd_even_inputs, odd_even_outputs)\n"
   ],
   "metadata": {
    "id": "K0niraiBM9cD"
   },
   "execution_count": 4,
   "outputs": []
  },
  {
   "cell_type": "code",
   "source": [
    "# Compile models\n",
    "digit_model.compile(optimizer='adam', loss='sparse_categorical_crossentropy', metrics=['accuracy'])\n",
    "odd_even_model.compile(optimizer='adam', loss='sparse_categorical_crossentropy', metrics=['accuracy'])\n",
    "\n",
    "# Train models\n",
    "digit_model.fit(train_images, train_labels, epochs=5, validation_split=0.1)\n",
    "odd_even_model.fit(train_images, train_labels_odd_even, epochs=5, validation_split=0.1)\n"
   ],
   "metadata": {
    "colab": {
     "base_uri": "https://localhost:8080/"
    },
    "id": "CL-jN77LM_w2",
    "outputId": "2decb348-d6f0-44ac-eed7-fb02a812659d"
   },
   "execution_count": 5,
   "outputs": [
    {
     "output_type": "stream",
     "name": "stdout",
     "text": [
      "Epoch 1/5\n",
      "1688/1688 [==============================] - 60s 35ms/step - loss: 0.1575 - accuracy: 0.9518 - val_loss: 0.0596 - val_accuracy: 0.9832\n",
      "Epoch 2/5\n",
      "1688/1688 [==============================] - 56s 33ms/step - loss: 0.0503 - accuracy: 0.9844 - val_loss: 0.0411 - val_accuracy: 0.9885\n",
      "Epoch 3/5\n",
      "1688/1688 [==============================] - 56s 33ms/step - loss: 0.0357 - accuracy: 0.9885 - val_loss: 0.0385 - val_accuracy: 0.9895\n",
      "Epoch 4/5\n",
      "1688/1688 [==============================] - 54s 32ms/step - loss: 0.0270 - accuracy: 0.9915 - val_loss: 0.0399 - val_accuracy: 0.9898\n",
      "Epoch 5/5\n",
      "1688/1688 [==============================] - 53s 32ms/step - loss: 0.0223 - accuracy: 0.9925 - val_loss: 0.0337 - val_accuracy: 0.9907\n",
      "Epoch 1/5\n",
      "1688/1688 [==============================] - 56s 32ms/step - loss: 0.0281 - accuracy: 0.9898 - val_loss: 0.0218 - val_accuracy: 0.9940\n",
      "Epoch 2/5\n",
      "1688/1688 [==============================] - 54s 32ms/step - loss: 0.0129 - accuracy: 0.9959 - val_loss: 0.0188 - val_accuracy: 0.9937\n",
      "Epoch 3/5\n",
      "1688/1688 [==============================] - 54s 32ms/step - loss: 0.0088 - accuracy: 0.9970 - val_loss: 0.0188 - val_accuracy: 0.9940\n",
      "Epoch 4/5\n",
      "1688/1688 [==============================] - 54s 32ms/step - loss: 0.0078 - accuracy: 0.9974 - val_loss: 0.0160 - val_accuracy: 0.9960\n",
      "Epoch 5/5\n",
      "1688/1688 [==============================] - 54s 32ms/step - loss: 0.0060 - accuracy: 0.9979 - val_loss: 0.0218 - val_accuracy: 0.9953\n"
     ]
    },
    {
     "output_type": "execute_result",
     "data": {
      "text/plain": [
       "<keras.src.callbacks.History at 0x7b35bce81ae0>"
      ]
     },
     "metadata": {},
     "execution_count": 5
    }
   ]
  },
  {
   "cell_type": "code",
   "source": [
    "# Evaluate models\n",
    "print(\"Digit classification performance:\")\n",
    "digit_model.evaluate(test_images, test_labels)\n",
    "\n",
    "print(\"Odd/even classification performance:\")\n",
    "odd_even_model.evaluate(test_images, test_labels_odd_even)\n"
   ],
   "metadata": {
    "colab": {
     "base_uri": "https://localhost:8080/"
    },
    "id": "QnC-jS92NCgQ",
    "outputId": "9440a75b-e4d3-4f9c-adac-6238b8520f0f"
   },
   "execution_count": 6,
   "outputs": [
    {
     "output_type": "stream",
     "name": "stdout",
     "text": [
      "Digit classification performance:\n",
      "313/313 [==============================] - 3s 10ms/step - loss: 0.0470 - accuracy: 0.9848\n",
      "Odd/even classification performance:\n",
      "313/313 [==============================] - 3s 10ms/step - loss: 0.0150 - accuracy: 0.9964\n"
     ]
    },
    {
     "output_type": "execute_result",
     "data": {
      "text/plain": [
       "[0.01499589066952467, 0.996399998664856]"
      ]
     },
     "metadata": {},
     "execution_count": 6
    }
   ]
  },
  {
   "cell_type": "code",
   "source": [
    "def plot_feature_maps(encoder, model, image_index):\n",
    "    img = np.expand_dims(test_images[image_index], axis=0)\n",
    "    # Extract the output of the last convolutional layer in the encoder\n",
    "    last_conv_output = encoder.get_layer(index=-1).output\n",
    "\n",
    "    # Creating an intermediate model that will return these outputs, given the encoder input\n",
    "    intermediate_model = models.Model(inputs=encoder.input, outputs=last_conv_output)\n",
    "    feature_maps = intermediate_model.predict(img)\n",
    "\n",
    "    num_maps = feature_maps.shape[-1]\n",
    "    size = feature_maps.shape[1]\n",
    "    display_grid = np.zeros((size, size * num_maps))\n",
    "    for j in range(num_maps):\n",
    "        x = feature_maps[0, :, :, j]\n",
    "        x -= x.mean()\n",
    "        std_dev = x.std()\n",
    "        if std_dev > 0:\n",
    "          x /= std_dev\n",
    "        x *= 64\n",
    "        x += 128\n",
    "        x = np.clip(x, 0, 255).astype('uint8')\n",
    "        display_grid[:, j * size : (j + 1) * size] = x\n",
    "    scale = 20. / num_maps\n",
    "    plt.figure(figsize=(scale * num_maps, scale))\n",
    "    plt.title(f'Feature maps from the last conv layer in {model.name}')\n",
    "    plt.grid(False)\n",
    "    plt.imshow(display_grid, aspect='auto', cmap='viridis')\n",
    "    plt.show()\n",
    "\n",
    "# Visualize feature maps for the digit classification model\n",
    "# using the last convolutional layer of the encoder\n",
    "print(\"Feature Maps for Digit Classification Model:\")\n",
    "plot_feature_maps(encoder, digit_model, 0)\n",
    "\n",
    "# Visualize feature maps for the odd/even classification model\n",
    "# using the last convolutional layer of the encoder\n",
    "print(\"Feature Maps for Odd/Even Classification Model:\")\n",
    "plot_feature_maps(encoder, odd_even_model, 0)\n"
   ],
   "metadata": {
    "colab": {
     "base_uri": "https://localhost:8080/",
     "height": 294
    },
    "id": "280uzacXNFve",
    "outputId": "4ff28f5f-0eb2-4b9e-eafb-c5235f6a0212"
   },
   "execution_count": 12,
   "outputs": [
    {
     "output_type": "stream",
     "name": "stdout",
     "text": [
      "Feature Maps for Digit Classification Model:\n",
      "1/1 [==============================] - 0s 66ms/step\n"
     ]
    },
    {
     "output_type": "display_data",
     "data": {
      "text/plain": [
       "<Figure size 2000x31.25 with 1 Axes>"
      ],
      "image/png": "[encoded data removed]"
     },
     "metadata": {}
    },
    {
     "output_type": "stream",
     "name": "stderr",
     "text": [
      "WARNING:tensorflow:5 out of the last 5 calls to <function Model.make_predict_function.<locals>.predict_function at 0x7b35bcd1cee0> triggered tf.function retracing. Tracing is expensive and the excessive number of tracings could be due to (1) creating @tf.function repeatedly in a loop, (2) passing tensors with different shapes, (3) passing Python objects instead of tensors. For (1), please define your @tf.function outside of the loop. For (2), @tf.function has reduce_retracing=True option that can avoid unnecessary retracing. For (3), please refer to https://www.tensorflow.org/guide/function#controlling_retracing and https://www.tensorflow.org/api_docs/python/tf/function for  more details.\n"
     ]
    },
    {
     "output_type": "stream",
     "name": "stdout",
     "text": [
      "Feature Maps for Odd/Even Classification Model:\n",
      "1/1 [==============================] - 0s 66ms/step\n"
     ]
    },
    {
     "output_type": "display_data",
     "data": {
      "text/plain": [
       "<Figure size 2000x31.25 with 1 Axes>"
      ],
      "image/png": "[encoded data removed]"
     },
     "metadata": {}
    }
   ]
  },
  {
   "cell_type": "code",
   "execution_count": null,
   "outputs": [],
   "source": [
    "# The feature maps from both the digit classification and odd/even classification models look quite similar, showing that the same underlying features extracted by the encoder are useful for both tasks\n",
    "# Activation Patterns: Areas highlighted in yellow or green show high activation, indicating important features for making predictions. Darker areas are less important."
   ],
   "metadata": {
    "collapsed": false
   }
  }
 ]
}
